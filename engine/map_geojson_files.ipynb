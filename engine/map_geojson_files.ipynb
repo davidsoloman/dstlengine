{
 "cells": [
  {
   "cell_type": "code",
   "execution_count": 289,
   "metadata": {
    "collapsed": false
   },
   "outputs": [],
   "source": [
    "import os\n",
    "\n",
    "import geojson\n",
    "import json\n",
    "from shapely.geometry import shape, asMultiPoint, asPolygon, Polygon, MultiPolygon\n",
    "from shapely import wkt\n",
    "from shapely.ops import cascaded_union, unary_union\n",
    "\n",
    "from geojson import Feature, Point, FeatureCollection\n",
    "\n",
    "from build_dstl import *\n",
    "from core_dstl import *\n"
   ]
  },
  {
   "cell_type": "code",
   "execution_count": 209,
   "metadata": {
    "collapsed": false
   },
   "outputs": [
    {
     "name": "stdout",
     "output_type": "stream",
     "text": [
      "[[[0.009156, 0], [0.009156, -0.009042], [0, -0.009042], [0, 0], [0.009156, 0]]]\n"
     ]
    }
   ],
   "source": [
    "# get gridsize for subregion from json\n",
    "with open(\"../input/train_geojson_v3/6100_1_3/Grid_6010.geojson\") as fn:\n",
    "    data = json.load(fn)\n",
    "\n",
    "    feature_collection = FeatureCollection(data['features'])\n",
    "    grid_size_coordinates = feature_collection[\"features\"][0][\"geometry\"][\"coordinates\"]\n",
    "print (grid_size_coordinates)\n"
   ]
  },
  {
   "cell_type": "code",
   "execution_count": 210,
   "metadata": {
    "collapsed": false
   },
   "outputs": [],
   "source": [
    "json_imageIds = json_area_regions\n",
    "test_file_prefix = \"../input/train_geojson_v3/\"\n",
    "file_type = \".geojson\"\n",
    "json_filenames =[file_in.replace(file_type, \"\") for file_in in os.listdir(test_file_prefix+\"6100_1_3\")]"
   ]
  },
  {
   "cell_type": "code",
   "execution_count": 316,
   "metadata": {
    "collapsed": false
   },
   "outputs": [
    {
     "name": "stdout",
     "output_type": "stream",
     "text": [
      ". 3 added to classPolygons dictionary 1.834404e-06\n",
      "3 geojson to polygon ---> success \n",
      "\n",
      "........................................................................................................................................................................................................................................................................................................................................................................................................................................................................................................................................................................................................................................................................................................................................................................................................................................................................................................................................................................................................................................................................................................................................................................................................................................................................................................................................................................................................................................................................................................................................................................................................................................................................................................................................................................2 added to classPolygons dictionary 2.26053171775e-06\n",
      "2 geojson to polygon ---> success \n",
      "\n",
      "..................................................................5 added to classPolygons dictionary 1.2134955e-06\n",
      "5 geojson to polygon ---> success \n",
      "\n",
      "...6 added to classPolygons dictionary 2.228386e-06\n",
      "6 geojson to polygon ---> success \n",
      "\n",
      "....8 added to classPolygons dictionary 5.665135e-07\n",
      "8 geojson to polygon ---> success \n",
      "\n",
      ".15 added to classPolygons dictionary 8.2788552e-05\n",
      "15 geojson to polygon ---> success \n",
      "\n",
      "...........9 added to classPolygons dictionary 9.109e-09\n",
      "9 geojson to polygon ---> success \n",
      "\n",
      "..........................................................10 added to classPolygons dictionary 4.527e-09\n",
      "10 geojson to polygon ---> success \n",
      "\n",
      "..........................................................................................................................................................................................................................................................................................................................................................................................................................................................................................................................................................................................................................................................................................................................................................................................................................................................................................................................................................................................................................................................................................................................................................................................................................................................................................................................................................................................................................................................................................................................................................................................................................................................................................................................................................................................................................................................................................................................................................................................................................................................................................................................................................................................................................1 added to classPolygons dictionary 6.87709218964e-06\n",
      "1 geojson to polygon ---> success \n",
      "\n",
      ".....................................................................................................................................................................................................................................................................................................................................................................................................................................................................................................................................................................................................................................................................................................................................................................................5 is already in dictionary\n",
      "5 [True, True, True, True, True, True, True, True, True, True, True, True, True, True, True, True, True, True, True, True, True, True, True, True, True, True, True, True, True, True, True, True, True, True, True, True, True, True, True, True, True, True, True, True, True, True, True, True, True, True, True, True, True, True, True, True, True, True, True, True, True, True, True, True, True, True, True, True, True, True, True, True, True, True, True, True, True, True, True, True, True, True, True, True, True, True, True, True, True, True, True, True, True, True, True, True, True, True, True, True, True, True, True, True, True, True, True, True, True, True, True, True, True, True, True, True, True, True, True, True, True, True, True, True, True, True, True, True, True, True, True, True, True, True, True, True, True, True, True, True, True, True, True, True, True, True, True, True, True, True, True, True, True, True, True, True, True, True, True, True, True, True, True, True, True, True, True, True, True, True, True, True, True, True, True, True, True, True, True, True, True, True, True, True, True, True, True, True, True, True, True, True, True, True, True, True, True, True, True, True, True, True, True, True, True, True, True, True, True, True, True, True, True, True, True, True, True, True, True, True, True, True, True, True, True, True, True, True, True, True, True, True, True, True, True, True, True, True, True, True, True, True, True, True, True, True, True, True, True, True, True, True, True, True, True, True, True, True, True, True, True, True, True, True, True, True, True, True, True, True, True, True, True, True, True, True, True, True, True, True, True, True, True, True, True, True, True, True, True, True, True, True, True, True, True, True, True, True, True, True, True, True, True, True, True, True, True, True, True, True, True, True, True, True, True, True, True, True, True, True, True, True, True, True, True, True, True, True, True, True, True, True, True, True, True, True, True, True, True, True, True, True, True, True, True, True, True, True, True, True, True, True, True, True, True, True, True, True, True, True, True, True, True, True, True, True, True, True, True, True, True, True, True, True, True, True, True, True, True, True, True, True, True, True, True, True, True, True, True, True, True, True, True, True, True, True, True, True, True, True, True, True, True, True, True, True, True, True, True, True, True, True, True, True, True, True, True, True, True, True, True, True, True, True, True, True, True, True, True, True, True, True, True, True, True, True, True, True, True, True, True, True, True, True, True, True, True, True, True, True, True, True, True, True, True, True, True, True, True, True, True, True, True, True, True, True, True, True, True, True, True, True, True, True, True, True, True, True, True, True, True, True, True, True, True, True, True, True, True, True, True, True, True, True, True, True, True, True, True, True, True, True, True, True, True, True, True, True, True, True, True, True, True, True, True, True, True, True, True, True, True, True, True, True, True, True, True, True, True, True, True, True, True, True, True, True, True, True, True, True, True, True, True, True, True, True, True, True, True, True, True, True, True, True, True, True, True, True, True, True, True, True, True, True, True, True, True, True, True, True, True, True, True, True, True, True, True, True, True, True, True, True, True, True, True, True, True, True, True, True, True, True, True, True, True, True, True, True, True, True, True, True, True, True, True, True, True, True, True, True, True, True, True, True, True, True, True, True, True, True, True, True, True, True, True, True, True, True, True, True, True, True, True, True, True, True, True, True, True, True, True, True, True, True, True, True, True, True, True, True, True, True, True, True, True, True, True, True, True, True, True, True, True, True, True, True, True, True, True, True, True, True, True, True, True, True, True, True, True, True, True, True, True, True, True, True, True, True, True, True, True, True, True, True, True, True, True, True, True, True, True, True, True, True, True, True, True, True, True, True, True, True, True, True, True, True, True, True, True, True, True, True, True, True, True, True, True, True, True, True, True, True, True, True, True, True, True, True, True, True, True, True, True, True, True, True, True, True, True, True, True, True, True, True, True, True, True, True]\n",
      "5 has new polygons 3.92614454902e-06\n",
      "5 geojson to polygon ---> success \n",
      "\n",
      ".................................................................................15 is already in dictionary\n",
      "15 [True, True, True, True, True, True, True, True, True, True, True, True, True, True, True, True, True, True, True, True, True, True, True, True, True, True, True, True, True, True, True, True, True, True, True, True, True, True, True, True, True, True, True, True, True, True, True, True, True, True, True, True, True, True, True, True, True, True, True, True, True, True, True, True, True, True, True, True, True, True, True, True, True, True, True, True, True, True, True, True, True, True]\n",
      "15 has new polygons 8.2788552e-05\n",
      "15 geojson to polygon ---> success \n",
      "\n",
      ".15 is already in dictionary\n",
      "15 [True, True]\n",
      "15 has new polygons 8.2788552e-05\n",
      "15 geojson to polygon ---> success \n",
      "\n",
      "...........................................................................1 is already in dictionary\n",
      "1 [True, True, True, True, True, True, True, True, True, True, True, True, True, True, True, True, True, True, True, True, True, True, True, True, True, True, True, True, True, True, True, True, True, True, True, True, True, True, True, True, True, True, True, True, True, True, True, True, True, True, True, True, True, True, True, True, True, True, True, True, True, True, True, True, True, True, True, True, True, True, True, True, True, True, True, True]\n",
      "1 has new polygons 3.85348e-07\n",
      "1 geojson to polygon ---> success \n",
      "\n",
      "......................4 added to classPolygons dictionary 9.62106407036e-06\n",
      "4 geojson to polygon ---> success \n",
      "\n",
      "....................................4 is already in dictionary\n",
      "4 [True, True, True, True, True, True, True, True, True, True, True, True, True, True, True, True, True, True, True, True, True, True, True, True, True, True, True, True, True, True, True, True, True, True, True, True, True]\n",
      "4 has new polygons 2.03170444066e-06\n",
      "4 geojson to polygon ---> success \n",
      "\n",
      "........................................................................10 is already in dictionary\n",
      "10 [True, True, True, True, True, True, True, True, True, True, True, True, True, True, True, True, True, True, True, True, True, True, True, True, True, True, True, True, True, True, True, True, True, True, True, True, True, True, True, True, True, True, True, True, True, True, True, True, True, True, True, True, True, True, True, True, True, True, True, True, True, True, True, True, True, True, True, True, True, True, True, True, True]\n",
      "10 has new polygons 3.34628965723e-08\n",
      "10 geojson to polygon ---> success \n",
      "\n",
      "......15 is already in dictionary\n",
      "15 [True, True, True, True, True, True, True]\n",
      "15 has new polygons 8.2788552e-05\n",
      "15 geojson to polygon ---> success \n",
      "\n",
      "['6100_1_3']\n",
      "Done! "
     ]
    }
   ],
   "source": [
    "def load_geojson_polygons(imageIds):\n",
    "    \"\"\" Load polygons from a geojson file\n",
    "    \n",
    "    returns a dictionary (imageIds) of dictionaries (class_types) of polygons\n",
    "    \"\"\" \n",
    "    \n",
    "    if imageIds is None : imageIds = td.imageId.unique()\n",
    "    \n",
    "    \n",
    "    polygons = {}\n",
    "    for iid in imageIds:\n",
    "        df_image = iid\n",
    "        classPolygons = {}\n",
    "        \n",
    "        # get json filenames per directory, not all the directories have the same files\n",
    "        filenames = [file.replace(file_type, '') for file in os.listdir(test_file_prefix+iid)]\n",
    "        \n",
    "        for json_file in filenames:\n",
    "            with open(test_file_prefix + iid +\"/\"+ json_file + file_type) as fn:\n",
    "                data = json.load(fn)\n",
    "\n",
    "                feature_collection = FeatureCollection(data['features'])\n",
    "\n",
    "#                 print first json feature of iid file for sanity check\n",
    "#                 print feature_collection['features'][0]\n",
    "        \n",
    "                num_features = len(feature_collection[\"features\"])\n",
    "\n",
    "                multipolygons = []\n",
    "                for index in range(num_features):\n",
    "\n",
    "                    progress()\n",
    "\n",
    "                    if json_file in filename_to_classType:\n",
    "                        filename = json_file\n",
    "                    else:\n",
    "                        filename = \"extended_classes\"         \n",
    "\n",
    "\n",
    "                    ctype = filename_to_classType[filename]\n",
    "\n",
    "                    multipolygon = shape(feature_collection['features'][index]['geometry'])\n",
    "\n",
    "\n",
    "        #             # At least one polygon in the training data is invalid. Fix (Kudos: @amanbh)\n",
    "        #             # https://www.kaggle.com/amanbh/dstl-satellite-imagery-feature-detection/dealing-with-invalid-polygons    \n",
    "                    if not multipolygon.is_valid: \n",
    "                        multipolygon = multipolygon.buffer(0)\n",
    "                        progress('Fixed invalid multipolygon {} {}'.format(iid, ctype) )\n",
    "\n",
    "                    if not multipolygon.is_empty:\n",
    "                        multipolygons.append(multipolygon)\n",
    "\n",
    "  \n",
    "                if ctype not in classPolygons:\n",
    "                    classPolygons[ctype] = unary_union(MultiPolygon(list(multipolygons)))\n",
    "                    print ctype, \"added to classPolygons dictionary\", classPolygons[ctype].area\n",
    "                    \n",
    "\n",
    "                else:\n",
    "                    print ctype, \"is already in dictionary\"\n",
    "                    polygons_list = [classPolygons.get(ctype, \"{} has no polygons\".format(ctype))]\n",
    "                    polygons_list.extend(multipolygons)\n",
    "                    \n",
    "                    print ctype, [p.is_valid for p in polygons_list]\n",
    "                    classPolygons[ctype] = unary_union(MultiPolygon(polygons_list))\n",
    "                    print ctype, \"has new polygons\", classPolygons[ctype].area\n",
    "\n",
    "\n",
    "\n",
    "            print ctype, \"geojson to polygon ---> success \\n\"\n",
    "\n",
    "    \n",
    "        polygons[iid] = classPolygons\n",
    "        print polygons.keys()\n",
    "\n",
    "                \n",
    "    progress(\"Done!\")\n",
    "\n",
    "#     print polygons\n",
    "    return polygons\n",
    "\n",
    "\n",
    "json_polygon_dict = load_geojson_polygons([\"6100_1_3\"])"
   ]
  },
  {
   "cell_type": "code",
   "execution_count": 288,
   "metadata": {
    "collapsed": false
   },
   "outputs": [
    {
     "name": "stdout",
     "output_type": "stream",
     "text": [
      "['6100_1_3']\n",
      "[True, True, True, True, True, True, True, True, True, True, True, True, True, True, True, True, True, True, True, True, True, True, True, True, True, True, True, True, True, True, True, True, True, True, True, True, True, True, True, True, True, True, True, True, True, True, True, True, True, True, True, True, True, True, True, True, True, True, True, True, True, True, True, True, True, True, True, True, True, True, True, True]\n"
     ]
    }
   ],
   "source": [
    "from pprint import pprint \n",
    "\n",
    "pprint (json_polygon_dict.keys())\n",
    "\n",
    "\n",
    "# for polygons in json_polygon_dict['6100_1_3'][15]:\n",
    "#     print class_num, type(polygons.wkt)\n",
    "\n",
    "print [p.is_valid for p in json_polygon_dict['6100_1_3'][10]]\n",
    "\n"
   ]
  },
  {
   "cell_type": "code",
   "execution_count": 306,
   "metadata": {
    "collapsed": false
   },
   "outputs": [],
   "source": [
    "def json_polygons_to_composite(class_polygons, xmax, ymin, width, height, filename, outline=False):\n",
    "    \"\"\" If outline is true, create transparent outline of classes suitable for layering over other images.\"\"\"\n",
    "\n",
    "    image_ids = class_polygons.keys()\n",
    "    print image_ids\n",
    "    \n",
    "    for iid in image_ids:\n",
    "        \n",
    "        width /= float(dpi)\n",
    "        height /= float(dpi)\n",
    "\n",
    "        if outline :\n",
    "            linewidth = 0.2\n",
    "            transparent = True\n",
    "            fill = False\n",
    "        else:\n",
    "            linewidth = 0.0\n",
    "            transparent = False\n",
    "            fill = True\n",
    "        \n",
    "        fig = plt.figure(figsize=(width,height), frameon=False)\n",
    "        axes = plt.Axes(fig, [0., 0, 1, 1]) # One axis, many axes\n",
    "        axes.set_axis_off()         \n",
    "        fig.add_axes(axes)\n",
    "        \n",
    "    \n",
    "        for classType, multipolygon in class_polygons[iid].items():\n",
    "\n",
    "            print classType, type(multipolygon), multipolygon.area  \n",
    "            \n",
    "            if classType != 15:\n",
    "\n",
    "                if (isinstance(multipolygon, shapely.geometry.multipolygon.MultiPolygon)):\n",
    "                    for polygon in multipolygon:\n",
    "                        patch = PolygonPatch(polygon,\n",
    "                                             color=class_color[classType],\n",
    "                                             lw=linewidth,   \n",
    "                                             alpha=1.0,\n",
    "                                             zorder=class_zorder[classType],\n",
    "                                             antialiased =True,\n",
    "                                             fill = fill)  \n",
    "\n",
    "                        axes.add_patch(patch)\n",
    "\n",
    "\n",
    "                else:\n",
    "                    patch = PolygonPatch(multipolygon,\n",
    "                                 color=class_color[classType],\n",
    "                                 lw=linewidth,   \n",
    "                                 alpha=1.0,\n",
    "                                 zorder=class_zorder[classType],\n",
    "                                 antialiased =True,\n",
    "                                 fill = fill)\n",
    "\n",
    "                    axes.add_patch(patch)\n",
    "\n",
    "\n",
    "        axes.set_xlim(0, xmax)\n",
    "        axes.set_ylim(ymin, 0)\n",
    "        axes.set_aspect(1)\n",
    "        plt.axis('off')\n",
    "\n",
    "        filename = str(iid) + \"_\"+filename\n",
    "\n",
    "        plt.savefig(filename, pad_inches=0, dpi=dpi, transparent=transparent)\n",
    "        plt.clf()\n",
    "        plt.close()    \n",
    "\n",
    "\n"
   ]
  },
  {
   "cell_type": "code",
   "execution_count": 307,
   "metadata": {
    "collapsed": false
   },
   "outputs": [
    {
     "name": "stdout",
     "output_type": "stream",
     "text": [
      "['6100_1_3']\n",
      "POLYGON ((0.009155999999999999 0, 0.009155999999999999 -0.009042, 0 -0.009042, 0 0, 0.009155999999999999 0))\n",
      "['6100_1_3']\n",
      "1 <class 'shapely.geometry.multipolygon.MultiPolygon'> 3.85348e-07\n",
      "2 <class 'shapely.geometry.multipolygon.MultiPolygon'> 2.26053171775e-06\n",
      "3 <class 'shapely.geometry.polygon.Polygon'> 1.834404e-06\n",
      "4 <class 'shapely.geometry.multipolygon.MultiPolygon'> 2.03170444066e-06\n",
      "5 <class 'shapely.geometry.multipolygon.MultiPolygon'> 3.92614454902e-06\n",
      "6 <class 'shapely.geometry.multipolygon.MultiPolygon'> 2.228386e-06\n",
      "8 <class 'shapely.geometry.multipolygon.MultiPolygon'> 5.665135e-07\n",
      "9 <class 'shapely.geometry.multipolygon.MultiPolygon'> 9.109e-09\n",
      "10 <class 'shapely.geometry.multipolygon.MultiPolygon'> 3.34628965723e-08\n",
      "15 <class 'shapely.geometry.polygon.Polygon'> 8.2788552e-05\n"
     ]
    }
   ],
   "source": [
    "image_ids = json_polygon_dict.keys()\n",
    "print image_ids\n",
    "iid = image_ids[0]\n",
    "print json_polygon_dict[iid][15]\n",
    "\n",
    " \n",
    "\n",
    "#     for classType, multipolygon in json_dict[iid].items():\n",
    "#         print classType, type(multipolygon), multipolygon.length, multipolygon.area\n",
    "    \n",
    "json_polygons_to_composite(json_polygon_dict, std_xmax, std_ymin, std_width, \n",
    "    std_height, \"test_test_test_json_\", outline=False)\n"
   ]
  },
  {
   "cell_type": "code",
   "execution_count": null,
   "metadata": {
    "collapsed": true
   },
   "outputs": [],
   "source": []
  }
 ],
 "metadata": {
  "anaconda-cloud": {},
  "kernelspec": {
   "display_name": "Python [conda root]",
   "language": "python",
   "name": "conda-root-py"
  },
  "language_info": {
   "codemirror_mode": {
    "name": "ipython",
    "version": 2
   },
   "file_extension": ".py",
   "mimetype": "text/x-python",
   "name": "python",
   "nbconvert_exporter": "python",
   "pygments_lexer": "ipython2",
   "version": "2.7.12"
  }
 },
 "nbformat": 4,
 "nbformat_minor": 1
}
